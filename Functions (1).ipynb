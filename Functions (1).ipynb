{
  "nbformat": 4,
  "nbformat_minor": 0,
  "metadata": {
    "colab": {
      "provenance": []
    },
    "kernelspec": {
      "name": "python3",
      "display_name": "Python 3"
    },
    "language_info": {
      "name": "python"
    }
  },
  "cells": [
    {
      "cell_type": "code",
      "execution_count": null,
      "metadata": {
        "id": "HfoPAlwNepiL"
      },
      "outputs": [],
      "source": []
    },
    {
      "cell_type": "markdown",
      "source": [
        "1.What is the difference between a function and a method in Python?\n",
        "  - Function is defined as a block of code that runs independently and it only executes when we call it by its name.\n",
        "  - Method is also a function but when a function is written inside a class, that is called as Method and it is dependent on that class object.\n",
        "\n",
        "2.Explain the concept of function arguments and parameters in Python?\n",
        "  - Parameter are the variables that are passes while defining a function.\n",
        "  - Arguments are passed to that variables while calling a function, these are often considered as values given to the parameters\n",
        "\n",
        "3.What are the different ways to define and call a function in Python?\n",
        " - We can define a function using \"def\" keyword or we also have a anonymous function named lambda, we can also use lambda to create a anonymous function\n",
        " - We can call the function by its name and pass the arguments if there are any parameters present while defining a function\n",
        "\n",
        "4.What is the purpose of the `return` statement in a Python function?\n",
        " - Return is used to return a value from the function and it is also used to exit from the function, without return statement function returns None.\n",
        "\n",
        "5.What are iterators in Python and how do they differ from iterables?\n",
        " - Iterator is defined as an object that produces the next value when we use next()\n",
        " - Iterator is nothing but a object which is iterable, on which we can loop over.\n",
        "\n",
        "6.Explain the concept of generators in Python and how they are defined?\n",
        " - Generators are a type of iterators defined with function using keyword \"yield\"\n",
        " - They generate values but donot store the values in memory.\n",
        "\n",
        "7.What are the advantages of using generators over regular functions?\n",
        " - Generators will generate the items one at a time without storing the whole sequence of values.\n",
        "\n",
        "8.What is a lambda function in Python and when is it typically used?\n",
        " - Lambda is considered as a anonymous function in python, which can be written in a single line\n",
        " - we use lambda for simple operations.\n",
        "\n",
        "9.Explain the purpose and usage of the `map()` function in Python.\n",
        " - Using map we can iterate over the sequence and apply a function to all the items in an iterable\n",
        "\n",
        "10.What is the difference between `map()`, `reduce()`, and `filter()` functions in Python?\n",
        " - Map: Map can iterate over a sequence and apply the given function to each item that is present in the iterated sequence\n",
        " - Filter: Filter also iterate over a sequence but it returns the item based on the condition given in filter\n",
        " - reduce: It applies a function to iterable sequence, where it combines the values according to instructions in function and returns a single value\n",
        "\n",
        "11. Using pen & Paper write the internal mechanism for sum operation using  reduce function on this given\n",
        "list:[47,11,42,13];\n",
        "\n",
        " - Attached the image"
      ],
      "metadata": {
        "id": "CTR53FJNeqMU"
      }
    },
    {
      "cell_type": "code",
      "source": [
        "#Write a Python function that takes a list of numbers as input and returns the sum of all even numbers in the list.\n",
        "def sum_of_even_numbers(list_a):\n",
        "  output = 0\n",
        "  for i in list_a:\n",
        "    if i%2==0:\n",
        "      output+=i\n",
        "  return output\n",
        "\n",
        "user_input = input().split()\n",
        "num_list = [int(x) for x in user_input]\n",
        "\n",
        "result = sum_of_even_numbers(num_list)\n",
        "print(result)"
      ],
      "metadata": {
        "colab": {
          "base_uri": "https://localhost:8080/"
        },
        "id": "uPRjswD1jyNM",
        "outputId": "fcb18124-2e03-4e82-e570-7445d11d3124"
      },
      "execution_count": 1,
      "outputs": [
        {
          "output_type": "stream",
          "name": "stdout",
          "text": [
            "10 20 30 40 50 60 70 80 90\n",
            "450\n"
          ]
        }
      ]
    },
    {
      "cell_type": "code",
      "source": [
        "# Create a Python function that accepts a string and returns the reverse of that string.\n",
        "def reverse_string(string):\n",
        "  return string[::-1]\n",
        "\n",
        "user_input = input()\n",
        "result = reverse_string(user_input)\n",
        "print(result)"
      ],
      "metadata": {
        "colab": {
          "base_uri": "https://localhost:8080/"
        },
        "id": "WZNDC34RkmOh",
        "outputId": "d2ddfc52-2f25-4c34-b84a-69ed48edf993"
      },
      "execution_count": 2,
      "outputs": [
        {
          "output_type": "stream",
          "name": "stdout",
          "text": [
            "palindrome\n",
            "emordnilap\n"
          ]
        }
      ]
    },
    {
      "cell_type": "code",
      "source": [
        "# Implement a Python function that takes a list of integers and returns a new list containing the squares of each number.\n",
        "def square_of_numbers(list_a):\n",
        "  output = []\n",
        "  for i in list_a:\n",
        "    output.append(i**2)\n",
        "  return output\n",
        "\n",
        "user_input = input().split()\n",
        "num_list = [int(x) for x in user_input]\n",
        "\n",
        "result = square_of_numbers(num_list)\n",
        "print(result)"
      ],
      "metadata": {
        "colab": {
          "base_uri": "https://localhost:8080/"
        },
        "id": "zVwsYH31k50b",
        "outputId": "fda4efc2-54a1-42e5-e8ee-b285fac87f92"
      },
      "execution_count": 3,
      "outputs": [
        {
          "output_type": "stream",
          "name": "stdout",
          "text": [
            "1 2 3 4 5\n",
            "[1, 4, 9, 16, 25]\n"
          ]
        }
      ]
    },
    {
      "cell_type": "code",
      "source": [
        "# Write a Python function that checks if a given number is prime or not from 1 to 200.\n",
        "def prime_or_not(number):\n",
        "    if number > 1:\n",
        "        for i in range(2, number):\n",
        "            if (number % i) == 0:\n",
        "                print(number, \"is not a prime number\")\n",
        "                break\n",
        "        else:\n",
        "            print(number, \"is a prime number\")\n",
        "user_input = int(input(\"Enter a number: \"))\n",
        "prime_or_not(user_input)"
      ],
      "metadata": {
        "colab": {
          "base_uri": "https://localhost:8080/"
        },
        "id": "jva4Tgcbk58U",
        "outputId": "c7a679f4-56fd-4853-caf5-025fe74fb417"
      },
      "execution_count": 4,
      "outputs": [
        {
          "output_type": "stream",
          "name": "stdout",
          "text": [
            "Enter a number: 5\n",
            "5 is a prime number\n"
          ]
        }
      ]
    },
    {
      "cell_type": "code",
      "source": [
        "#Create an iterator class in Python that generates the Fibonacci sequence up to a specified number of terms.\n",
        "\n",
        "class FibonacciIterator:\n",
        "    def __init__(self, n):\n",
        "        self.n = n\n",
        "        self.a = 0\n",
        "        self.b = 1\n",
        "        self.count = 0\n",
        "    def __iter__(self):\n",
        "        return self\n",
        "    def __next__(self):\n",
        "        if self.count < self.n:\n",
        "            result = self.a\n",
        "            self.a = self.b\n",
        "            self.b = self.a + self.b\n",
        "            self.count += 1\n",
        "            return result\n",
        "        else:\n",
        "            raise StopIteration\n",
        "n = int(input(\"Enter the number of terms: \"))\n",
        "fib_iter = FibonacciIterator(n)\n",
        "for num in fib_iter:\n",
        "    print(num)\n"
      ],
      "metadata": {
        "colab": {
          "base_uri": "https://localhost:8080/"
        },
        "id": "NyNMm_A8lZNI",
        "outputId": "ac28c5ab-21c4-4657-c820-80d6021d0d17"
      },
      "execution_count": 5,
      "outputs": [
        {
          "output_type": "stream",
          "name": "stdout",
          "text": [
            "Enter the number of terms: 10\n",
            "0\n",
            "1\n",
            "1\n",
            "2\n",
            "3\n",
            "5\n",
            "8\n",
            "13\n",
            "21\n",
            "34\n"
          ]
        }
      ]
    },
    {
      "cell_type": "code",
      "source": [
        "#Write a generator function in Python that yields the powers of 2 up to a given exponent.\n",
        "def powers(number):\n",
        "  for n in range(number+1):\n",
        "    yield 2**n\n",
        "\n",
        "print(list(powers(10)))"
      ],
      "metadata": {
        "colab": {
          "base_uri": "https://localhost:8080/"
        },
        "id": "37TLDh_NmjDv",
        "outputId": "e3f85245-1f49-477c-ebfd-3e97f1014352"
      },
      "execution_count": 8,
      "outputs": [
        {
          "output_type": "stream",
          "name": "stdout",
          "text": [
            "[1, 2, 4, 8, 16, 32, 64, 128, 256, 512, 1024]\n"
          ]
        }
      ]
    },
    {
      "cell_type": "code",
      "source": [
        "#Implement a generator function that reads a file line by line and yields each line as a string.\n",
        "def read_file(file):\n",
        "    with open(file, 'r') as f:\n",
        "        for line in f:\n",
        "            yield line\n",
        "for line in read_file('file.txt'):\n",
        "    print(line)"
      ],
      "metadata": {
        "id": "Nr4-ipkLmjHO"
      },
      "execution_count": null,
      "outputs": []
    },
    {
      "cell_type": "code",
      "source": [
        "# Use a lambda function in Python to sort a list of tuples based on the second element of each tuple.\n",
        "tuples_list = [(1,\"name\"),(3,\"age\"),(4,\"city\"),(2,\"qualification\"),(0,\"Experience\")]\n",
        "\n",
        "sorted_list = sorted(tuples_list, key=lambda x: x[1])\n",
        "\n",
        "print(sorted_list)\n",
        "\n"
      ],
      "metadata": {
        "colab": {
          "base_uri": "https://localhost:8080/"
        },
        "id": "T2HdB8jdmjJ3",
        "outputId": "a2f9c5ce-e43a-4d8a-ae17-c5f40c4e4614"
      },
      "execution_count": 9,
      "outputs": [
        {
          "output_type": "stream",
          "name": "stdout",
          "text": [
            "[(0, 'Experience'), (3, 'age'), (4, 'city'), (1, 'name'), (2, 'qualification')]\n"
          ]
        }
      ]
    },
    {
      "cell_type": "code",
      "source": [
        "# Write a Python program that uses `map()` to convert a list of temperatures from Celsius to Fahrenheit.\n",
        "celsius_list = [30,5,40,75,88]\n",
        "Fahrenheit_list = list(map(lambda x: (x*9/5)+32,celsius_list))\n",
        "print(Fahrenheit_list)"
      ],
      "metadata": {
        "colab": {
          "base_uri": "https://localhost:8080/"
        },
        "id": "KUjmWQDcoT7Z",
        "outputId": "ea23b3d8-9d77-4c4d-f589-609aefad7828"
      },
      "execution_count": 10,
      "outputs": [
        {
          "output_type": "stream",
          "name": "stdout",
          "text": [
            "[86.0, 41.0, 104.0, 167.0, 190.4]\n"
          ]
        }
      ]
    },
    {
      "cell_type": "code",
      "source": [
        "# Create a Python program that uses `filter()` to remove all the vowels from a given string?\n",
        "user_input = input(\"Enter a sentence: \")\n",
        "vowels = \"aeious\"\n",
        "filetered_word = \"\".join(list(filter(lambda x: x not in vowels, user_input)))\n",
        "print(filetered_word)"
      ],
      "metadata": {
        "colab": {
          "base_uri": "https://localhost:8080/"
        },
        "id": "Va8veRo7omMr",
        "outputId": "a9e587a5-3315-4930-c379-1ba283c8962d"
      },
      "execution_count": 11,
      "outputs": [
        {
          "output_type": "stream",
          "name": "stdout",
          "text": [
            "Enter a sentence: Python is a beautiful language\n",
            "Pythn   btfl lngg\n"
          ]
        }
      ]
    },
    {
      "cell_type": "code",
      "source": [
        "'''Imagine an accounting routine used in a book shop. It works on a list with sublists, which look like this:\n",
        "Write a Python program, which returns a list with 2-tuples. Each tuple consists of the order number and the\n",
        "product of the price per item and the quantity. The product should be increased by 10,- € if the value of the\n",
        "order is smaller than 100,00 €.\n",
        "\n",
        "Write a Python program using lambda and map'''\n",
        "\n",
        "orders_list = [[34587, \"Learning python, marks luts\", 4 ,46.95],[12345,\"programming python.mark luts\",5,56.50],[77226,\"Head first python,paul berry\",3,32.95],[88112,\"Einfuhrung in python3,brend klein\",3,24.99]]\n",
        "for orders in orders_list:\n",
        "  if orders[2]*orders[3]>=100:\n",
        "    print([orders[0],orders[2]*orders[3]])\n",
        "  else:\n",
        "    print([orders[0],orders[2]*orders[3]+10])\n",
        "\n"
      ],
      "metadata": {
        "colab": {
          "base_uri": "https://localhost:8080/"
        },
        "id": "-thOTwPEomaT",
        "outputId": "00bf5619-7ede-49a2-c6fe-71d00919af35"
      },
      "execution_count": 13,
      "outputs": [
        {
          "output_type": "stream",
          "name": "stdout",
          "text": [
            "[34587, 187.8]\n",
            "[12345, 282.5]\n",
            "[77226, 108.85000000000001]\n",
            "[88112, 84.97]\n"
          ]
        }
      ]
    }
  ]
}